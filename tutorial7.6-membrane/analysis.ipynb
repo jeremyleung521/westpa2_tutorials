{
 "cells": [
  {
   "cell_type": "markdown",
   "id": "8df805b8",
   "metadata": {},
   "source": [
    "# Membrane Permeability Tutorial (Analysis)"
   ]
  },
  {
   "cell_type": "markdown",
   "id": "d7ed6170",
   "metadata": {},
   "source": [
    "In this tutorial, we will demonstrate how to extract the full trajectory of a crossing event and calculate the incoming flux to the target state from the WE membrane permeation simulation. __Note that this tutorial assumes that you already have a finished simulation using the HDF5 framework with at least one crossing event.__"
   ]
  },
  {
   "cell_type": "markdown",
   "id": "c9df5257",
   "metadata": {},
   "source": [
    "## Extract the trajectory of a crossing event"
   ]
  },
  {
   "cell_type": "markdown",
   "id": "ecdf2f33",
   "metadata": {},
   "source": [
    "We will use the analysis module of WESTPA to extract the trajectory of the most probable pathway from our simulation. First, we make necessary imports and construct a `Run` object on `west.h5`:"
   ]
  },
  {
   "cell_type": "code",
   "execution_count": 1,
   "id": "e719ff4b",
   "metadata": {},
   "outputs": [
    {
     "data": {
      "text/html": [
       "<div>\n",
       "<style scoped>\n",
       "    .dataframe tbody tr th:only-of-type {\n",
       "        vertical-align: middle;\n",
       "    }\n",
       "\n",
       "    .dataframe tbody tr th {\n",
       "        vertical-align: top;\n",
       "    }\n",
       "\n",
       "    .dataframe thead th {\n",
       "        text-align: right;\n",
       "    }\n",
       "</style>\n",
       "<table border=\"1\" class=\"dataframe\">\n",
       "  <thead>\n",
       "    <tr style=\"text-align: right;\">\n",
       "      <th></th>\n",
       "      <th>n_particles</th>\n",
       "      <th>min_bin_prob</th>\n",
       "      <th>max_bin_prob</th>\n",
       "      <th>min_seg_prob</th>\n",
       "      <th>max_seg_prob</th>\n",
       "      <th>cputime</th>\n",
       "      <th>walltime</th>\n",
       "    </tr>\n",
       "  </thead>\n",
       "  <tbody>\n",
       "    <tr>\n",
       "      <th>1</th>\n",
       "      <td>5</td>\n",
       "      <td>1.0</td>\n",
       "      <td>1.0</td>\n",
       "      <td>0.2</td>\n",
       "      <td>0.2</td>\n",
       "      <td>1301.553127</td>\n",
       "      <td>465.256439</td>\n",
       "    </tr>\n",
       "    <tr>\n",
       "      <th>2</th>\n",
       "      <td>15</td>\n",
       "      <td>0.2</td>\n",
       "      <td>0.4</td>\n",
       "      <td>0.04</td>\n",
       "      <td>0.133333</td>\n",
       "      <td>4293.063974</td>\n",
       "      <td>1466.927154</td>\n",
       "    </tr>\n",
       "    <tr>\n",
       "      <th>3</th>\n",
       "      <td>35</td>\n",
       "      <td>0.066667</td>\n",
       "      <td>0.2</td>\n",
       "      <td>0.013333</td>\n",
       "      <td>0.066667</td>\n",
       "      <td>10022.91254</td>\n",
       "      <td>3147.62858</td>\n",
       "    </tr>\n",
       "    <tr>\n",
       "      <th>4</th>\n",
       "      <td>55</td>\n",
       "      <td>0.013333</td>\n",
       "      <td>0.191111</td>\n",
       "      <td>0.002667</td>\n",
       "      <td>0.044444</td>\n",
       "      <td>15945.511953</td>\n",
       "      <td>5040.211619</td>\n",
       "    </tr>\n",
       "    <tr>\n",
       "      <th>5</th>\n",
       "      <td>60</td>\n",
       "      <td>0.002667</td>\n",
       "      <td>0.16</td>\n",
       "      <td>0.000533</td>\n",
       "      <td>0.044444</td>\n",
       "      <td>17498.235068</td>\n",
       "      <td>5384.734828</td>\n",
       "    </tr>\n",
       "    <tr>\n",
       "      <th>6</th>\n",
       "      <td>65</td>\n",
       "      <td>0.0024</td>\n",
       "      <td>0.21</td>\n",
       "      <td>0.000444</td>\n",
       "      <td>0.061111</td>\n",
       "      <td>18704.76975</td>\n",
       "      <td>5838.108513</td>\n",
       "    </tr>\n",
       "    <tr>\n",
       "      <th>7</th>\n",
       "      <td>65</td>\n",
       "      <td>0.008333</td>\n",
       "      <td>0.194444</td>\n",
       "      <td>0.00125</td>\n",
       "      <td>0.048889</td>\n",
       "      <td>18756.767901</td>\n",
       "      <td>5882.41901</td>\n",
       "    </tr>\n",
       "    <tr>\n",
       "      <th>8</th>\n",
       "      <td>70</td>\n",
       "      <td>0.001667</td>\n",
       "      <td>0.166667</td>\n",
       "      <td>0.000333</td>\n",
       "      <td>0.045741</td>\n",
       "      <td>20437.191859</td>\n",
       "      <td>6297.919408</td>\n",
       "    </tr>\n",
       "    <tr>\n",
       "      <th>9</th>\n",
       "      <td>80</td>\n",
       "      <td>0.000333</td>\n",
       "      <td>0.145454</td>\n",
       "      <td>0.000067</td>\n",
       "      <td>0.045741</td>\n",
       "      <td>22743.721471</td>\n",
       "      <td>7143.796719</td>\n",
       "    </tr>\n",
       "    <tr>\n",
       "      <th>10</th>\n",
       "      <td>85</td>\n",
       "      <td>0.000067</td>\n",
       "      <td>0.161914</td>\n",
       "      <td>0.000013</td>\n",
       "      <td>0.045741</td>\n",
       "      <td>24695.949969</td>\n",
       "      <td>7669.588866</td>\n",
       "    </tr>\n",
       "    <tr>\n",
       "      <th>11</th>\n",
       "      <td>140</td>\n",
       "      <td>0.000013</td>\n",
       "      <td>0.115988</td>\n",
       "      <td>0.000003</td>\n",
       "      <td>0.031806</td>\n",
       "      <td>40442.534093</td>\n",
       "      <td>12587.325228</td>\n",
       "    </tr>\n",
       "    <tr>\n",
       "      <th>12</th>\n",
       "      <td>175</td>\n",
       "      <td>0.000005</td>\n",
       "      <td>0.146144</td>\n",
       "      <td>0.000001</td>\n",
       "      <td>0.037037</td>\n",
       "      <td>49186.160244</td>\n",
       "      <td>15247.431919</td>\n",
       "    </tr>\n",
       "    <tr>\n",
       "      <th>13</th>\n",
       "      <td>185</td>\n",
       "      <td>0.000003</td>\n",
       "      <td>0.144205</td>\n",
       "      <td>0.000001</td>\n",
       "      <td>0.040561</td>\n",
       "      <td>52636.290679</td>\n",
       "      <td>16257.800992</td>\n",
       "    </tr>\n",
       "    <tr>\n",
       "      <th>14</th>\n",
       "      <td>185</td>\n",
       "      <td>0.000002</td>\n",
       "      <td>0.143327</td>\n",
       "      <td>0.0</td>\n",
       "      <td>0.040561</td>\n",
       "      <td>53237.734375</td>\n",
       "      <td>16461.036167</td>\n",
       "    </tr>\n",
       "    <tr>\n",
       "      <th>15</th>\n",
       "      <td>175</td>\n",
       "      <td>0.000002</td>\n",
       "      <td>0.21483</td>\n",
       "      <td>0.0</td>\n",
       "      <td>0.055835</td>\n",
       "      <td>49929.593672</td>\n",
       "      <td>15402.286983</td>\n",
       "    </tr>\n",
       "    <tr>\n",
       "      <th>16</th>\n",
       "      <td>190</td>\n",
       "      <td>0.000007</td>\n",
       "      <td>0.175781</td>\n",
       "      <td>0.000001</td>\n",
       "      <td>0.055835</td>\n",
       "      <td>55266.763833</td>\n",
       "      <td>17102.919697</td>\n",
       "    </tr>\n",
       "    <tr>\n",
       "      <th>17</th>\n",
       "      <td>190</td>\n",
       "      <td>0.000005</td>\n",
       "      <td>0.15322</td>\n",
       "      <td>0.000001</td>\n",
       "      <td>0.047592</td>\n",
       "      <td>55354.081111</td>\n",
       "      <td>17165.672288</td>\n",
       "    </tr>\n",
       "    <tr>\n",
       "      <th>18</th>\n",
       "      <td>200</td>\n",
       "      <td>0.000001</td>\n",
       "      <td>0.171864</td>\n",
       "      <td>0.0</td>\n",
       "      <td>0.047592</td>\n",
       "      <td>57442.375205</td>\n",
       "      <td>17666.002907</td>\n",
       "    </tr>\n",
       "    <tr>\n",
       "      <th>19</th>\n",
       "      <td>235</td>\n",
       "      <td>0.0</td>\n",
       "      <td>0.119421</td>\n",
       "      <td>0.0</td>\n",
       "      <td>0.03379</td>\n",
       "      <td>67690.874971</td>\n",
       "      <td>20898.718008</td>\n",
       "    </tr>\n",
       "    <tr>\n",
       "      <th>20</th>\n",
       "      <td>275</td>\n",
       "      <td>0.0</td>\n",
       "      <td>0.128251</td>\n",
       "      <td>0.0</td>\n",
       "      <td>0.03379</td>\n",
       "      <td>77039.973088</td>\n",
       "      <td>23746.33735</td>\n",
       "    </tr>\n",
       "    <tr>\n",
       "      <th>21</th>\n",
       "      <td>325</td>\n",
       "      <td>0.0</td>\n",
       "      <td>0.143261</td>\n",
       "      <td>0.0</td>\n",
       "      <td>0.034491</td>\n",
       "      <td>94929.646826</td>\n",
       "      <td>29125.733545</td>\n",
       "    </tr>\n",
       "    <tr>\n",
       "      <th>22</th>\n",
       "      <td>340</td>\n",
       "      <td>0.0</td>\n",
       "      <td>0.188694</td>\n",
       "      <td>0.0</td>\n",
       "      <td>0.051877</td>\n",
       "      <td>95177.851889</td>\n",
       "      <td>29281.516284</td>\n",
       "    </tr>\n",
       "    <tr>\n",
       "      <th>23</th>\n",
       "      <td>385</td>\n",
       "      <td>0.0</td>\n",
       "      <td>0.170475</td>\n",
       "      <td>0.0</td>\n",
       "      <td>0.041383</td>\n",
       "      <td>111203.542329</td>\n",
       "      <td>34153.816433</td>\n",
       "    </tr>\n",
       "    <tr>\n",
       "      <th>24</th>\n",
       "      <td>380</td>\n",
       "      <td>0.0</td>\n",
       "      <td>0.162656</td>\n",
       "      <td>0.0</td>\n",
       "      <td>0.039884</td>\n",
       "      <td>111306.637572</td>\n",
       "      <td>34223.56521</td>\n",
       "    </tr>\n",
       "    <tr>\n",
       "      <th>25</th>\n",
       "      <td>400</td>\n",
       "      <td>0.0</td>\n",
       "      <td>0.203562</td>\n",
       "      <td>0.0</td>\n",
       "      <td>0.057528</td>\n",
       "      <td>114845.326272</td>\n",
       "      <td>35496.115759</td>\n",
       "    </tr>\n",
       "    <tr>\n",
       "      <th>26</th>\n",
       "      <td>410</td>\n",
       "      <td>0.0</td>\n",
       "      <td>0.223249</td>\n",
       "      <td>0.0</td>\n",
       "      <td>0.058626</td>\n",
       "      <td>119379.230626</td>\n",
       "      <td>36795.67799</td>\n",
       "    </tr>\n",
       "    <tr>\n",
       "      <th>27</th>\n",
       "      <td>425</td>\n",
       "      <td>0.0</td>\n",
       "      <td>0.116825</td>\n",
       "      <td>0.0</td>\n",
       "      <td>0.043654</td>\n",
       "      <td>118673.441515</td>\n",
       "      <td>36545.314559</td>\n",
       "    </tr>\n",
       "    <tr>\n",
       "      <th>28</th>\n",
       "      <td>430</td>\n",
       "      <td>0.0</td>\n",
       "      <td>0.141536</td>\n",
       "      <td>0.0</td>\n",
       "      <td>0.043654</td>\n",
       "      <td>120823.941411</td>\n",
       "      <td>37298.304556</td>\n",
       "    </tr>\n",
       "    <tr>\n",
       "      <th>29</th>\n",
       "      <td>440</td>\n",
       "      <td>0.0</td>\n",
       "      <td>0.146978</td>\n",
       "      <td>0.0</td>\n",
       "      <td>0.043654</td>\n",
       "      <td>123043.901313</td>\n",
       "      <td>37949.520474</td>\n",
       "    </tr>\n",
       "    <tr>\n",
       "      <th>30</th>\n",
       "      <td>455</td>\n",
       "      <td>0.0</td>\n",
       "      <td>0.13104</td>\n",
       "      <td>0.0</td>\n",
       "      <td>0.036788</td>\n",
       "      <td>125855.98023</td>\n",
       "      <td>38720.2612</td>\n",
       "    </tr>\n",
       "    <tr>\n",
       "      <th>31</th>\n",
       "      <td>455</td>\n",
       "      <td>0.0</td>\n",
       "      <td>0.133286</td>\n",
       "      <td>0.0</td>\n",
       "      <td>0.037531</td>\n",
       "      <td>129011.719583</td>\n",
       "      <td>39658.630931</td>\n",
       "    </tr>\n",
       "    <tr>\n",
       "      <th>32</th>\n",
       "      <td>465</td>\n",
       "      <td>0.0</td>\n",
       "      <td>0.129277</td>\n",
       "      <td>0.0</td>\n",
       "      <td>0.036788</td>\n",
       "      <td>128787.782566</td>\n",
       "      <td>39593.934695</td>\n",
       "    </tr>\n",
       "    <tr>\n",
       "      <th>33</th>\n",
       "      <td>475</td>\n",
       "      <td>0.0</td>\n",
       "      <td>0.14599</td>\n",
       "      <td>0.0</td>\n",
       "      <td>0.039264</td>\n",
       "      <td>136550.621939</td>\n",
       "      <td>42079.92976</td>\n",
       "    </tr>\n",
       "    <tr>\n",
       "      <th>34</th>\n",
       "      <td>465</td>\n",
       "      <td>0.0</td>\n",
       "      <td>0.143198</td>\n",
       "      <td>0.0</td>\n",
       "      <td>0.036508</td>\n",
       "      <td>130760.520618</td>\n",
       "      <td>40168.613234</td>\n",
       "    </tr>\n",
       "    <tr>\n",
       "      <th>35</th>\n",
       "      <td>470</td>\n",
       "      <td>0.0</td>\n",
       "      <td>0.138289</td>\n",
       "      <td>0.0</td>\n",
       "      <td>0.037232</td>\n",
       "      <td>130807.581099</td>\n",
       "      <td>40101.889348</td>\n",
       "    </tr>\n",
       "    <tr>\n",
       "      <th>36</th>\n",
       "      <td>490</td>\n",
       "      <td>0.0</td>\n",
       "      <td>0.130789</td>\n",
       "      <td>0.0</td>\n",
       "      <td>0.037232</td>\n",
       "      <td>140239.122818</td>\n",
       "      <td>43263.919531</td>\n",
       "    </tr>\n",
       "    <tr>\n",
       "      <th>37</th>\n",
       "      <td>490</td>\n",
       "      <td>0.0</td>\n",
       "      <td>0.135522</td>\n",
       "      <td>0.0</td>\n",
       "      <td>0.038846</td>\n",
       "      <td>141564.628198</td>\n",
       "      <td>43642.875273</td>\n",
       "    </tr>\n",
       "  </tbody>\n",
       "</table>\n",
       "</div>"
      ],
      "text/plain": [
       "   n_particles min_bin_prob max_bin_prob min_seg_prob max_seg_prob  \\\n",
       "1            5          1.0          1.0          0.2          0.2   \n",
       "2           15          0.2          0.4         0.04     0.133333   \n",
       "3           35     0.066667          0.2     0.013333     0.066667   \n",
       "4           55     0.013333     0.191111     0.002667     0.044444   \n",
       "5           60     0.002667         0.16     0.000533     0.044444   \n",
       "6           65       0.0024         0.21     0.000444     0.061111   \n",
       "7           65     0.008333     0.194444      0.00125     0.048889   \n",
       "8           70     0.001667     0.166667     0.000333     0.045741   \n",
       "9           80     0.000333     0.145454     0.000067     0.045741   \n",
       "10          85     0.000067     0.161914     0.000013     0.045741   \n",
       "11         140     0.000013     0.115988     0.000003     0.031806   \n",
       "12         175     0.000005     0.146144     0.000001     0.037037   \n",
       "13         185     0.000003     0.144205     0.000001     0.040561   \n",
       "14         185     0.000002     0.143327          0.0     0.040561   \n",
       "15         175     0.000002      0.21483          0.0     0.055835   \n",
       "16         190     0.000007     0.175781     0.000001     0.055835   \n",
       "17         190     0.000005      0.15322     0.000001     0.047592   \n",
       "18         200     0.000001     0.171864          0.0     0.047592   \n",
       "19         235          0.0     0.119421          0.0      0.03379   \n",
       "20         275          0.0     0.128251          0.0      0.03379   \n",
       "21         325          0.0     0.143261          0.0     0.034491   \n",
       "22         340          0.0     0.188694          0.0     0.051877   \n",
       "23         385          0.0     0.170475          0.0     0.041383   \n",
       "24         380          0.0     0.162656          0.0     0.039884   \n",
       "25         400          0.0     0.203562          0.0     0.057528   \n",
       "26         410          0.0     0.223249          0.0     0.058626   \n",
       "27         425          0.0     0.116825          0.0     0.043654   \n",
       "28         430          0.0     0.141536          0.0     0.043654   \n",
       "29         440          0.0     0.146978          0.0     0.043654   \n",
       "30         455          0.0      0.13104          0.0     0.036788   \n",
       "31         455          0.0     0.133286          0.0     0.037531   \n",
       "32         465          0.0     0.129277          0.0     0.036788   \n",
       "33         475          0.0      0.14599          0.0     0.039264   \n",
       "34         465          0.0     0.143198          0.0     0.036508   \n",
       "35         470          0.0     0.138289          0.0     0.037232   \n",
       "36         490          0.0     0.130789          0.0     0.037232   \n",
       "37         490          0.0     0.135522          0.0     0.038846   \n",
       "\n",
       "          cputime      walltime  \n",
       "1     1301.553127    465.256439  \n",
       "2     4293.063974   1466.927154  \n",
       "3     10022.91254    3147.62858  \n",
       "4    15945.511953   5040.211619  \n",
       "5    17498.235068   5384.734828  \n",
       "6     18704.76975   5838.108513  \n",
       "7    18756.767901    5882.41901  \n",
       "8    20437.191859   6297.919408  \n",
       "9    22743.721471   7143.796719  \n",
       "10   24695.949969   7669.588866  \n",
       "11   40442.534093  12587.325228  \n",
       "12   49186.160244  15247.431919  \n",
       "13   52636.290679  16257.800992  \n",
       "14   53237.734375  16461.036167  \n",
       "15   49929.593672  15402.286983  \n",
       "16   55266.763833  17102.919697  \n",
       "17   55354.081111  17165.672288  \n",
       "18   57442.375205  17666.002907  \n",
       "19   67690.874971  20898.718008  \n",
       "20   77039.973088   23746.33735  \n",
       "21   94929.646826  29125.733545  \n",
       "22   95177.851889  29281.516284  \n",
       "23  111203.542329  34153.816433  \n",
       "24  111306.637572   34223.56521  \n",
       "25  114845.326272  35496.115759  \n",
       "26  119379.230626   36795.67799  \n",
       "27  118673.441515  36545.314559  \n",
       "28  120823.941411  37298.304556  \n",
       "29  123043.901313  37949.520474  \n",
       "30   125855.98023    38720.2612  \n",
       "31  129011.719583  39658.630931  \n",
       "32  128787.782566  39593.934695  \n",
       "33  136550.621939   42079.92976  \n",
       "34  130760.520618  40168.613234  \n",
       "35  130807.581099  40101.889348  \n",
       "36  140239.122818  43263.919531  \n",
       "37  141564.628198  43642.875273  "
      ]
     },
     "execution_count": 1,
     "metadata": {},
     "output_type": "execute_result"
    }
   ],
   "source": [
    "from westpa.analysis import Run, HDF5MDTrajectory\n",
    "\n",
    "run = Run.open('west.h5')\n",
    "run.summary"
   ]
  },
  {
   "cell_type": "markdown",
   "id": "80cefdb8",
   "metadata": {},
   "source": [
    "Then, we identify the recycled walker, i.e., walkers that reached the target state, that has the highest probability as follows,"
   ]
  },
  {
   "cell_type": "code",
   "execution_count": 3,
   "id": "421487da",
   "metadata": {},
   "outputs": [],
   "source": [
    "walker = max(run.recycled_walkers, key=lambda walker: walker.weight)"
   ]
  },
  {
   "cell_type": "markdown",
   "id": "b21a8889",
   "metadata": {},
   "source": [
    "The full history (trace) of this recycled walker can be accessed by a single call to the `trace` method of the `Walker` object:"
   ]
  },
  {
   "cell_type": "code",
   "execution_count": 4,
   "id": "b500f9a4",
   "metadata": {},
   "outputs": [],
   "source": [
    "trace = walker.trace()"
   ]
  },
  {
   "cell_type": "markdown",
   "id": "c9487361",
   "metadata": {},
   "source": [
    "The `Trace` object is essentially a sequence of segments that the walker took to go from the basis state to the target state. We can obtain information about the walker, such as progress coordinates and the trajectory, from the `Trace` object. For example, the progress coordinates of the trace can be extracted and plotted as follows:"
   ]
  },
  {
   "cell_type": "code",
   "execution_count": 9,
   "id": "3f4ce38a",
   "metadata": {},
   "outputs": [
    {
     "data": {
      "text/plain": [
       "[<matplotlib.lines.Line2D at 0x7f9eb12e32d0>]"
      ]
     },
     "execution_count": 9,
     "metadata": {},
     "output_type": "execute_result"
    },
    {
     "data": {
      "image/png": "[encoded data removed]",
      "text/plain": [
       "<Figure size 432x288 with 1 Axes>"
      ]
     },
     "metadata": {
      "needs_background": "light"
     },
     "output_type": "display_data"
    }
   ],
   "source": [
    "import numpy as np\n",
    "import matplotlib.pyplot as plt\n",
    "\n",
    "pcoords = []\n",
    "for walker in trace:\n",
    "    pcoords.append(walker.pcoords)\n",
    "pcoords = np.concatenate(pcoords)\n",
    "\n",
    "plt.plot(pcoords)"
   ]
  },
  {
   "cell_type": "markdown",
   "id": "100cf9cb",
   "metadata": {},
   "source": [
    "The trajectory of the trace can be extracted and saved in any format supported by `mdtraj`. Here, we save it in the [MDTraj HDF5 format](https://mdtraj.org/1.9.5/hdf5_format.html):"
   ]
  },
  {
   "cell_type": "code",
   "execution_count": null,
   "id": "65b59c67",
   "metadata": {},
   "outputs": [],
   "source": [
    "trajectory = HDF5MDTrajectory()\n",
    "traj = trajectory(trace)"
   ]
  },
  {
   "cell_type": "markdown",
   "id": "6dcc8909",
   "metadata": {},
   "source": [
    "In case the trajectory is too large, there are several ways to slim it down:"
   ]
  },
  {
   "cell_type": "code",
   "execution_count": null,
   "id": "b8504b47",
   "metadata": {},
   "outputs": [],
   "source": [
    "traj = traj.atom_slice(traj.top.select('not water'))  # remove water\n",
    "traj = traj[::5]   # takes every 5 frames (we have 5 frames per iteration for this tutorial)"
   ]
  },
  {
   "cell_type": "code",
   "execution_count": null,
   "id": "dc4ef216",
   "metadata": {},
   "outputs": [],
   "source": [
    "traj_file = 'trace-%d-%d.h5'%(walker.iteration.number, walker.index)\n",
    "traj.save(traj_file)"
   ]
  },
  {
   "cell_type": "markdown",
   "id": "0a41dfa5",
   "metadata": {},
   "source": [
    "It is a good practice to call `Run.close()` when the `Run` object is not needed any more to close and release the handle of `west.h5`."
   ]
  },
  {
   "cell_type": "code",
   "execution_count": 18,
   "id": "8ab002c9",
   "metadata": {},
   "outputs": [],
   "source": [
    "run.close()"
   ]
  },
  {
   "cell_type": "markdown",
   "id": "1dd92d9f",
   "metadata": {},
   "source": [
    "There are other alternatives, but here we choose to use [NGL Viewer](https://nglviewer.org/) to visualize the trajectory thanks to its capability of visualizing trajectories in the HDF5 format. First, we load up the trajectory using `mdtraj` and then create a `view` of the trajectory object using `nglview`:"
   ]
  },
  {
   "cell_type": "code",
   "execution_count": 14,
   "id": "823f1dbd",
   "metadata": {},
   "outputs": [],
   "source": [
    "import nglview as nv\n",
    "import mdtraj as md\n",
    "\n",
    "traj = md.load(traj_file)\n",
    "top = traj.topology\n",
    "view = nv.show_mdtraj(traj)"
   ]
  },
  {
   "cell_type": "markdown",
   "id": "a672c447",
   "metadata": {},
   "source": [
    "Then we can visualize the trajectory of the crossing event using the following code. Note that you can modify and apply your own styles for visualizing the molecules, e.g., the permeant, the lipids, or the waters."
   ]
  },
  {
   "cell_type": "code",
   "execution_count": 15,
   "id": "6c31ddd7",
   "metadata": {},
   "outputs": [
    {
     "data": {
      "application/vnd.jupyter.widget-view+json": {
       "model_id": "ea85ff8f60914854ae09e65a987b9f0d",
       "version_major": 2,
       "version_minor": 0
      },
      "text/plain": [
       "NGLWidget(max_frame=36)"
      ]
     },
     "metadata": {},
     "output_type": "display_data"
    }
   ],
   "source": [
    "view.clear()\n",
    "\n",
    "view.add_line(selection=top.select(\"resname 'POP'\"), color=\"skyblue\")\n",
    "view.add_ball_and_stick(selection=top.select(\"resname 'LIG'\"), color=\"red\")\n",
    "# uncomment this line to show waters\n",
    "view.add_line(selection=top.select(\"resname 'HOH'\"), color=\"lightgrey\")\n",
    "\n",
    "view"
   ]
  },
  {
   "cell_type": "markdown",
   "id": "c1d7521f",
   "metadata": {},
   "source": [
    "## Calculate the fluxes into the target state"
   ]
  },
  {
   "cell_type": "markdown",
   "id": "d2975a03",
   "metadata": {},
   "source": [
    "We run `w_ipa` to calculate the evolution of the fluxes into the target state as the iteration number increases. The analysis scheme for running `w_ipa` is configured in `west.cfg`. For example, the following is configured for this tutorial:\n",
    "```\n",
    "west:\n",
    "  analysis:\n",
    "     directory: ANALYSIS                # specify the directory all analysis files should exist in.\n",
    "     kinetics:                          # general options for both kinetics routines.\n",
    "       step_iter: 1 \n",
    "       evolution: cumulative\n",
    "       extra: [ 'disable-correl' ]\n",
    "     analysis_schemes:                  # Analysis schemes.  Required: name (PERMEATION), states, and bins\n",
    "       PERMEATION:\n",
    "         enabled: True\n",
    "         bins:\n",
    "           - type: RectilinearBinMapper\n",
    "             boundaries: \n",
    "               - [-inf,-25.0,25.0,inf]  # -25.0 to -inf for the starting state and 25.0 to inf for the target state\n",
    "         states:\n",
    "           - label: uncrossed\n",
    "             coords: \n",
    "               - [-26.0]\n",
    "           - label: crossed\n",
    "             coords: \n",
    "               - [26.0]  \n",
    "\n",
    "```\n",
    "\n",
    "Then simply call the following command to run `w_ipa`:"
   ]
  },
  {
   "cell_type": "code",
   "execution_count": 1,
   "id": "8f8f9693",
   "metadata": {},
   "outputs": [
    {
     "name": "stdout",
     "output_type": "stream",
     "text": [
      "\n",
      "Welcome to w_ipa (WESTPA Interactive Python Analysis) v. 1.0B!\n",
      "Run w.introduction for a more thorough introduction, or w.help to see a list of options.\n",
      "Running analysis & loading files.\n",
      "\n",
      "Complete!\n",
      "Setting iteration to iter 37.\n",
      "Your current scheme, system and iteration are : PERMEATION, /Users/shezhang/GitRepos/westpa_tutorials/membrane_permeability, 37\n",
      "\n"
     ]
    }
   ],
   "source": [
    "!w_ipa -ao"
   ]
  },
  {
   "cell_type": "markdown",
   "id": "a92922f9",
   "metadata": {},
   "source": [
    "The flux data will be saved to `ANALYSIS/PERMEATION/direct.h5`. We will use `h5py` to access the flux data:"
   ]
  },
  {
   "cell_type": "code",
   "execution_count": 23,
   "id": "f1fa140a",
   "metadata": {},
   "outputs": [
    {
     "data": {
      "text/plain": [
       "array([(1,  2, 0.00000000e+00, 0.00000000e+00, 0.00000000e+00, 0.00000000e+00, 0),\n",
       "       (1,  3, 0.00000000e+00, 0.00000000e+00, 0.00000000e+00, 0.00000000e+00, 0),\n",
       "       (1,  4, 0.00000000e+00, 0.00000000e+00, 0.00000000e+00, 0.00000000e+00, 0),\n",
       "       (1,  5, 0.00000000e+00, 0.00000000e+00, 0.00000000e+00, 0.00000000e+00, 0),\n",
       "       (1,  6, 0.00000000e+00, 0.00000000e+00, 0.00000000e+00, 0.00000000e+00, 0),\n",
       "       (1,  7, 0.00000000e+00, 0.00000000e+00, 0.00000000e+00, 0.00000000e+00, 0),\n",
       "       (1,  8, 0.00000000e+00, 0.00000000e+00, 0.00000000e+00, 0.00000000e+00, 0),\n",
       "       (1,  9, 0.00000000e+00, 0.00000000e+00, 0.00000000e+00, 0.00000000e+00, 0),\n",
       "       (1, 10, 0.00000000e+00, 0.00000000e+00, 0.00000000e+00, 0.00000000e+00, 0),\n",
       "       (1, 11, 0.00000000e+00, 0.00000000e+00, 0.00000000e+00, 0.00000000e+00, 0),\n",
       "       (1, 12, 0.00000000e+00, 0.00000000e+00, 0.00000000e+00, 0.00000000e+00, 0),\n",
       "       (1, 13, 0.00000000e+00, 0.00000000e+00, 0.00000000e+00, 0.00000000e+00, 0),\n",
       "       (1, 14, 0.00000000e+00, 0.00000000e+00, 0.00000000e+00, 0.00000000e+00, 0),\n",
       "       (1, 15, 0.00000000e+00, 0.00000000e+00, 0.00000000e+00, 0.00000000e+00, 0),\n",
       "       (1, 16, 0.00000000e+00, 0.00000000e+00, 0.00000000e+00, 0.00000000e+00, 0),\n",
       "       (1, 17, 0.00000000e+00, 0.00000000e+00, 0.00000000e+00, 0.00000000e+00, 0),\n",
       "       (1, 18, 0.00000000e+00, 0.00000000e+00, 0.00000000e+00, 0.00000000e+00, 0),\n",
       "       (1, 19, 0.00000000e+00, 0.00000000e+00, 0.00000000e+00, 0.00000000e+00, 0),\n",
       "       (1, 20, 0.00000000e+00, 0.00000000e+00, 0.00000000e+00, 0.00000000e+00, 0),\n",
       "       (1, 21, 0.00000000e+00, 0.00000000e+00, 0.00000000e+00, 0.00000000e+00, 0),\n",
       "       (1, 22, 0.00000000e+00, 0.00000000e+00, 0.00000000e+00, 0.00000000e+00, 0),\n",
       "       (1, 23, 0.00000000e+00, 0.00000000e+00, 0.00000000e+00, 0.00000000e+00, 0),\n",
       "       (1, 24, 0.00000000e+00, 0.00000000e+00, 0.00000000e+00, 0.00000000e+00, 0),\n",
       "       (1, 25, 0.00000000e+00, 0.00000000e+00, 0.00000000e+00, 0.00000000e+00, 0),\n",
       "       (1, 26, 0.00000000e+00, 0.00000000e+00, 0.00000000e+00, 0.00000000e+00, 0),\n",
       "       (1, 27, 0.00000000e+00, 0.00000000e+00, 0.00000000e+00, 0.00000000e+00, 0),\n",
       "       (1, 28, 0.00000000e+00, 0.00000000e+00, 0.00000000e+00, 0.00000000e+00, 0),\n",
       "       (1, 29, 0.00000000e+00, 0.00000000e+00, 0.00000000e+00, 0.00000000e+00, 0),\n",
       "       (1, 30, 0.00000000e+00, 0.00000000e+00, 0.00000000e+00, 0.00000000e+00, 0),\n",
       "       (1, 31, 0.00000000e+00, 0.00000000e+00, 0.00000000e+00, 0.00000000e+00, 0),\n",
       "       (1, 32, 0.00000000e+00, 0.00000000e+00, 0.00000000e+00, 0.00000000e+00, 0),\n",
       "       (1, 33, 0.00000000e+00, 0.00000000e+00, 0.00000000e+00, 0.00000000e+00, 0),\n",
       "       (1, 34, 0.00000000e+00, 0.00000000e+00, 0.00000000e+00, 0.00000000e+00, 0),\n",
       "       (1, 35, 7.18225045e-13, 0.00000000e+00, 2.15467514e-12, 7.03677300e-13, 0),\n",
       "       (1, 36, 1.16284055e-12, 0.00000000e+00, 3.02338543e-12, 8.26121080e-13, 0),\n",
       "       (1, 37, 1.56014440e-12, 0.00000000e+00, 3.36900748e-12, 8.77235063e-13, 0),\n",
       "       (1, 38, 1.72939986e-12, 2.11421522e-13, 3.48937475e-12, 8.62150985e-13, 0)],\n",
       "      dtype=[('iter_start', '<u4'), ('iter_stop', '<u4'), ('expected', '<f8'), ('ci_lbound', '<f8'), ('ci_ubound', '<f8'), ('sterr', '<f8'), ('corr_len', '<u4')])"
      ]
     },
     "execution_count": 23,
     "metadata": {},
     "output_type": "execute_result"
    }
   ],
   "source": [
    "import h5py\n",
    "\n",
    "h5f = h5py.File('ANALYSIS/PERMEATION/direct.h5', 'r')\n",
    "flux_dataset = h5f['target_flux_evolution'][:, 1]  # 1 for fluxes into the crossed state as specified in west.cfg\n",
    "flux_dataset"
   ]
  },
  {
   "cell_type": "markdown",
   "id": "9f796e4e",
   "metadata": {},
   "source": [
    "The dataset contains 5 columns and their headers are shown in `dtype`. The first two columns indicate the range of the iterations that the fluxes were used to be bootstrapped from to calculate the mean (`expected`), 95% confidence intervals (`ci_lbound` and `ci_ubound`), and standard deviation (`sterr`)."
   ]
  },
  {
   "cell_type": "code",
   "execution_count": 20,
   "id": "0e97dd8b",
   "metadata": {},
   "outputs": [
    {
     "data": {
      "text/plain": [
       "<matplotlib.collections.PolyCollection at 0x7ffc1531c090>"
      ]
     },
     "execution_count": 20,
     "metadata": {},
     "output_type": "execute_result"
    },
    {
     "data": {
      "image/png": "[encoded data removed]",
      "text/plain": [
       "<Figure size 432x288 with 1 Axes>"
      ]
     },
     "metadata": {
      "needs_background": "light"
     },
     "output_type": "display_data"
    }
   ],
   "source": [
    "import matplotlib.pyplot as plt\n",
    "\n",
    "flux_avg = flux_dataset['expected']\n",
    "flux_lb  = flux_dataset['ci_lbound']\n",
    "flux_ub  = flux_dataset['ci_ubound']\n",
    "iters    = flux_dataset['iter_stop']\n",
    "\n",
    "plt.plot(iters, flux_avg, color='C0')\n",
    "plt.fill_between(iters, flux_lb, flux_ub, color='C0', alpha=0.5)"
   ]
  },
  {
   "cell_type": "markdown",
   "id": "325958bc",
   "metadata": {},
   "source": [
    "Note that the state labels can be double checked by:"
   ]
  },
  {
   "cell_type": "code",
   "execution_count": 10,
   "id": "8e39dcac",
   "metadata": {},
   "outputs": [
    {
     "data": {
      "text/plain": [
       "array([b'uncrossed', b'crossed'], dtype='|S9')"
      ]
     },
     "execution_count": 10,
     "metadata": {},
     "output_type": "execute_result"
    }
   ],
   "source": [
    "h5f['state_labels'][:]"
   ]
  },
  {
   "cell_type": "markdown",
   "id": "b5923505",
   "metadata": {},
   "source": [
    "Again, close the HDF5 object to release the file handle:"
   ]
  },
  {
   "cell_type": "code",
   "execution_count": 21,
   "id": "b994cc3a",
   "metadata": {},
   "outputs": [],
   "source": [
    "h5f.close()"
   ]
  },
  {
   "cell_type": "markdown",
   "id": "28c353be",
   "metadata": {},
   "source": [
    "## Calculate the permeability coefficient"
   ]
  },
  {
   "cell_type": "markdown",
   "id": "870318b3",
   "metadata": {},
   "source": [
    "The permeability coefficient can be easily calculated based on the rates calculated from `w_ipa`, however, you would need to accumulate enough simulation data for this calculation (~500 iterations). Due to the size limit, we cannot provide an example dataset here for this calculation, but you can use the code snipet below to perform the calculation on your own prolonged simulation.\n",
    "\n",
    "To estimate the permeability coefficietn, first, we need to calculate the iteration interval (`tau`) based on the parameters we used in the simulation. We convert the unit of `tau` to second for an easier interpretation. "
   ]
  },
  {
   "cell_type": "code",
   "execution_count": null,
   "id": "97e834b0",
   "metadata": {},
   "outputs": [],
   "source": [
    "second = 1e-12       # ps -> s\n",
    "\n",
    "# the following parameters should be consistent with the ones used in \"common_files/memb_prod.py\"\n",
    "dt = 0.002 * second  # time interval for dynamics propagation\n",
    "n_steps = 50000  # number of steps per iteration\n",
    "\n",
    "tau = n_steps * dt"
   ]
  },
  {
   "cell_type": "markdown",
   "id": "fe0b2837",
   "metadata": {},
   "source": [
    "Second, we extract the rates from the `rate_evolution` dataset in `direct.h5` generated by `w_ipa`. Note that the rates from the dataset are divided by `tau` so that their unit is per second."
   ]
  },
  {
   "cell_type": "code",
   "execution_count": null,
   "id": "f55f0ae2",
   "metadata": {},
   "outputs": [],
   "source": [
    "import h5py\n",
    "\n",
    "with h5py.File('ANALYSIS/PERMEATION/direct.h5', 'r') as h5f:\n",
    "    rate_evol = h5f['rate_evolution'][:, 0, 1]  # 0 for the uncrossed and 1 for the crossed state as specified in west.cfg\n",
    "\n",
    "    rate_avg = rate_evol['expected'] / tau\n",
    "    rate_cilb = rate_evol['ci_lbound'] / tau\n",
    "    rate_ciub = rate_evol['ci_ubound'] / tau"
   ]
  },
  {
   "cell_type": "markdown",
   "id": "8e110f6f",
   "metadata": {},
   "source": [
    "We can estimate the size of the donor compartment (`l_d`) as follows:"
   ]
  },
  {
   "cell_type": "code",
   "execution_count": null,
   "id": "36688b67",
   "metadata": {},
   "outputs": [],
   "source": [
    "centimeter = 1e-8    # angstrom -> cm\n",
    "\n",
    "l_sim_box = 160  # simulation box size; can be estimated from the unitcell lengths from the trajectories\n",
    "l_memb = 40  # membrane depth\n",
    "\n",
    "l_d = (l_sim_box - l_memb) / 2 * centimeter"
   ]
  },
  {
   "cell_type": "markdown",
   "id": "bd0e1650",
   "metadata": {},
   "source": [
    "Then the permeability coefficient is simply the product of the rate and the donor compartment size. See [Zhang et al. (2022)](https://pubs.acs.org/doi/10.1021/acs.jcim.1c01540) for details."
   ]
  },
  {
   "cell_type": "code",
   "execution_count": null,
   "id": "9501596d",
   "metadata": {},
   "outputs": [],
   "source": [
    "perm_avg = rate_avg * l_d\n",
    "perm_cilb = rate_cilb * l_d\n",
    "perm_ciub = rate_ciub * l_d"
   ]
  },
  {
   "cell_type": "markdown",
   "id": "c8185eb9",
   "metadata": {},
   "source": [
    "We can visualize the time evolution of the permeability estimate as follows:"
   ]
  },
  {
   "cell_type": "code",
   "execution_count": null,
   "id": "3be07671",
   "metadata": {},
   "outputs": [],
   "source": [
    "import matplotlib.pyplot as plt\n",
    "import numpy as np\n",
    "\n",
    "n_iters = np.arange(len(perm_avg)) + 1\n",
    "lines = plt.plot(n_iters, perm_avg)\n",
    "\n",
    "ax = plt.gca()\n",
    "ax.set_yscale(\"log\")\n",
    "\n",
    "color = lines[0].get_color()\n",
    "plt.fill_between(n_iters, perm_avg, perm_ciub, color=color, alpha=0.5)\n",
    "plt.fill_between(n_iters, perm_cilb, perm_avg, color=color, alpha=0.5)"
   ]
  },
  {
   "cell_type": "markdown",
   "id": "be4a5a71",
   "metadata": {},
   "source": [
    "Here, the line is the average estimate and the shaded region represents 95% confidence intervals."
   ]
  }
 ],
 "metadata": {
  "kernelspec": {
   "display_name": "Python 3 (ipykernel)",
   "language": "python",
   "name": "python3"
  },
  "language_info": {
   "codemirror_mode": {
    "name": "ipython",
    "version": 3
   },
   "file_extension": ".py",
   "mimetype": "text/x-python",
   "name": "python",
   "nbconvert_exporter": "python",
   "pygments_lexer": "ipython3",
   "version": "3.7.11"
  }
 },
 "nbformat": 4,
 "nbformat_minor": 5
}
